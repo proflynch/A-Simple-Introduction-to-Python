{
 "cells": [
  {
   "cell_type": "markdown",
   "id": "dba3cbd9",
   "metadata": {},
   "source": [
    "# CHAPTER 1: Python as a Powerful Calculator"
   ]
  },
  {
   "cell_type": "markdown",
   "id": "cd164a15",
   "metadata": {},
   "source": [
    "(Use IDLE, Spyder or a Jupyter notebook)"
   ]
  },
  {
   "cell_type": "markdown",
   "id": "33ba7bb1",
   "metadata": {},
   "source": [
    "<figure>\n",
    "<img src = \"Python as a calculator.png\" , width = \"700\">\n",
    "</figure>"
   ]
  },
  {
   "cell_type": "markdown",
   "id": "0de27e95",
   "metadata": {},
   "source": [
    "# Solutions\n",
    "\n",
    "$\\bf{1.}$  Compute the following:\n",
    "\n",
    "(a) $101-34+67$. \n",
    "\n",
    "(b) $12 \\times 7$.\n",
    "\n",
    "(c) $4 \\times (7 + 9 \\times 3)$.\n",
    "\n",
    "(d) $2-2 \\times(2-4)$.\n",
    "\n",
    "(e) $0.1 \\times (0.6-0.05)$."
   ]
  },
  {
   "cell_type": "code",
   "execution_count": 1,
   "id": "1cd5a8e9",
   "metadata": {},
   "outputs": [
    {
     "data": {
      "text/plain": [
       "134"
      ]
     },
     "execution_count": 1,
     "metadata": {},
     "output_type": "execute_result"
    }
   ],
   "source": [
    "# 1(a)\n",
    "101 - 34 + 67"
   ]
  },
  {
   "cell_type": "code",
   "execution_count": 2,
   "id": "69666bad",
   "metadata": {},
   "outputs": [
    {
     "data": {
      "text/plain": [
       "84"
      ]
     },
     "execution_count": 2,
     "metadata": {},
     "output_type": "execute_result"
    }
   ],
   "source": [
    "# 1(b)\n",
    "12 * 7"
   ]
  },
  {
   "cell_type": "code",
   "execution_count": 3,
   "id": "fb7a4aa5",
   "metadata": {},
   "outputs": [
    {
     "data": {
      "text/plain": [
       "136"
      ]
     },
     "execution_count": 3,
     "metadata": {},
     "output_type": "execute_result"
    }
   ],
   "source": [
    "# 1(c)\n",
    "4 * (7 + 9 * 3)"
   ]
  },
  {
   "cell_type": "code",
   "execution_count": 4,
   "id": "11622ec5",
   "metadata": {},
   "outputs": [
    {
     "data": {
      "text/plain": [
       "6"
      ]
     },
     "execution_count": 4,
     "metadata": {},
     "output_type": "execute_result"
    }
   ],
   "source": [
    "# 1(d)\n",
    "2 - 2 * (2 - 4)"
   ]
  },
  {
   "cell_type": "code",
   "execution_count": 5,
   "id": "929e591c",
   "metadata": {},
   "outputs": [
    {
     "data": {
      "text/plain": [
       "0.05499999999999999"
      ]
     },
     "execution_count": 5,
     "metadata": {},
     "output_type": "execute_result"
    }
   ],
   "source": [
    "# 1(e)\n",
    "0.1 * (0.6 - 0.05)"
   ]
  },
  {
   "cell_type": "markdown",
   "id": "00358599",
   "metadata": {},
   "source": [
    "$\\bf{2.}$  Compute symbolically:\n",
    "    \n",
    "(a) $\\frac{1}{4}-\\frac{1}{5}$.\n",
    "\n",
    "(b) $\\frac{2}{3} \\times 30$. \n",
    "\n",
    "(c) $\\frac{2}{5} \\times \\frac{5}{7}$.\n",
    "\n",
    "(d) $\\frac{1}{3} \\div 2$.\n",
    "\n",
    "(e) $\\frac{1}{2} \\times \\left(\\frac{1}{4} - \\frac{1}{3} \\right) \\div \\frac{1}{8}$."
   ]
  },
  {
   "cell_type": "code",
   "execution_count": 7,
   "id": "78e35b32",
   "metadata": {},
   "outputs": [
    {
     "data": {
      "text/plain": [
       "Fraction(1, 20)"
      ]
     },
     "execution_count": 7,
     "metadata": {},
     "output_type": "execute_result"
    }
   ],
   "source": [
    "# 2(a)\n",
    "from fractions import Fraction\n",
    "Fraction(1 , 4) - Fraction(1 , 5)"
   ]
  },
  {
   "cell_type": "code",
   "execution_count": 8,
   "id": "2fd6ce62",
   "metadata": {},
   "outputs": [
    {
     "data": {
      "text/plain": [
       "Fraction(20, 1)"
      ]
     },
     "execution_count": 8,
     "metadata": {},
     "output_type": "execute_result"
    }
   ],
   "source": [
    "# 2(b)\n",
    "Fraction(2 , 3) * 30"
   ]
  },
  {
   "cell_type": "code",
   "execution_count": 9,
   "id": "46a5c23a",
   "metadata": {},
   "outputs": [
    {
     "data": {
      "text/plain": [
       "Fraction(2, 7)"
      ]
     },
     "execution_count": 9,
     "metadata": {},
     "output_type": "execute_result"
    }
   ],
   "source": [
    "# 2(c)\n",
    "Fraction(2 , 5) * Fraction(5 , 7)"
   ]
  },
  {
   "cell_type": "code",
   "execution_count": 10,
   "id": "21b90b4c",
   "metadata": {},
   "outputs": [
    {
     "data": {
      "text/plain": [
       "Fraction(1, 6)"
      ]
     },
     "execution_count": 10,
     "metadata": {},
     "output_type": "execute_result"
    }
   ],
   "source": [
    "# 2(d)\n",
    "Fraction(1 , 3) / 2"
   ]
  },
  {
   "cell_type": "code",
   "execution_count": 11,
   "id": "58628425",
   "metadata": {},
   "outputs": [
    {
     "data": {
      "text/plain": [
       "Fraction(-1, 3)"
      ]
     },
     "execution_count": 11,
     "metadata": {},
     "output_type": "execute_result"
    }
   ],
   "source": [
    "# 2(e)\n",
    "Fraction(1 , 2) * (Fraction(1 , 4) - Fraction(1 , 3)) / Fraction(1 , 8)"
   ]
  },
  {
   "cell_type": "markdown",
   "id": "16757af4",
   "metadata": {},
   "source": [
    "$\\bf{3.}$  Determine:\n",
    "\n",
    "(a) $2^{15}$.\n",
    "\n",
    "(b) $\\left( \\frac{1}{3} \\right)^3$.\n",
    "\n",
    "(c) $64^{-2}$.\n",
    "\n",
    "(d) $10^5 \\times 10^{10}$.\n",
    "\n",
    "(e) $\\left(2^5\\right)^3\\left(\\sqrt[3]{27} \\times \\sqrt[4]{625} - \\sqrt[5]{32} \\right)$."
   ]
  },
  {
   "cell_type": "code",
   "execution_count": 12,
   "id": "d2521a6d",
   "metadata": {},
   "outputs": [
    {
     "data": {
      "text/plain": [
       "32768"
      ]
     },
     "execution_count": 12,
     "metadata": {},
     "output_type": "execute_result"
    }
   ],
   "source": [
    "# 3(a)\n",
    "2**15"
   ]
  },
  {
   "cell_type": "code",
   "execution_count": 13,
   "id": "464e8170",
   "metadata": {},
   "outputs": [
    {
     "data": {
      "text/plain": [
       "Fraction(1, 27)"
      ]
     },
     "execution_count": 13,
     "metadata": {},
     "output_type": "execute_result"
    }
   ],
   "source": [
    "# 3(b)\n",
    "(Fraction(1 ,3))**3"
   ]
  },
  {
   "cell_type": "code",
   "execution_count": 16,
   "id": "482bd55a",
   "metadata": {},
   "outputs": [
    {
     "data": {
      "text/plain": [
       "Fraction(1, 4096)"
      ]
     },
     "execution_count": 16,
     "metadata": {},
     "output_type": "execute_result"
    }
   ],
   "source": [
    "# 3(c)\n",
    "Fraction(64 , 1)**(-2)"
   ]
  },
  {
   "cell_type": "code",
   "execution_count": 15,
   "id": "5ce4490a",
   "metadata": {},
   "outputs": [
    {
     "data": {
      "text/plain": [
       "1000000000000000"
      ]
     },
     "execution_count": 15,
     "metadata": {},
     "output_type": "execute_result"
    }
   ],
   "source": [
    "# 3(d)\n",
    "10**5 * 10**10"
   ]
  },
  {
   "cell_type": "code",
   "execution_count": 18,
   "id": "e9c24dd0",
   "metadata": {},
   "outputs": [
    {
     "data": {
      "text/plain": [
       "425984.0"
      ]
     },
     "execution_count": 18,
     "metadata": {},
     "output_type": "execute_result"
    }
   ],
   "source": [
    "# 3(e)\n",
    "from math import pow\n",
    "(2**5)**3 * (pow(27 , 1 / 3) * pow(625 , 1 / 4) - pow(32 , 1 / 5))"
   ]
  },
  {
   "cell_type": "markdown",
   "id": "eba04429",
   "metadata": {},
   "source": [
    "$\\bf{4.}$  Read about all of the functions in the Math library. Use the Math library (module) to:\n",
    "\n",
    "(a) Compute $\\cos(30^{\\circ})$.\n",
    "\n",
    "(b) Find the factorial, $52!$ and state how this number relates to a pack of playing cards?\n",
    "\n",
    "(c) Find $\\ln(2)$, where $\\ln(x)=\\log_e(x)$ is the natural logarithm function.\n",
    "\n",
    "(d) Determine floor($\\pi$) $-$ ceil(e).\n",
    "\n",
    "(e) Compute the lowest common multiple of 6, 7 and 9."
   ]
  },
  {
   "cell_type": "code",
   "execution_count": 19,
   "id": "791e57d9",
   "metadata": {},
   "outputs": [
    {
     "data": {
      "text/plain": [
       "0.8660254037844387"
      ]
     },
     "execution_count": 19,
     "metadata": {},
     "output_type": "execute_result"
    }
   ],
   "source": [
    "# 4(a)\n",
    "from math import *\n",
    "cos(radians(30))"
   ]
  },
  {
   "cell_type": "code",
   "execution_count": 20,
   "id": "718ced5b",
   "metadata": {},
   "outputs": [
    {
     "data": {
      "text/plain": [
       "80658175170943878571660636856403766975289505440883277824000000000000"
      ]
     },
     "execution_count": 20,
     "metadata": {},
     "output_type": "execute_result"
    }
   ],
   "source": [
    "# 4(b)\n",
    "factorial(52)"
   ]
  },
  {
   "cell_type": "code",
   "execution_count": 21,
   "id": "0967080a",
   "metadata": {},
   "outputs": [
    {
     "data": {
      "text/plain": [
       "0.6931471805599453"
      ]
     },
     "execution_count": 21,
     "metadata": {},
     "output_type": "execute_result"
    }
   ],
   "source": [
    "# 4(c)\n",
    "log(2)"
   ]
  },
  {
   "cell_type": "code",
   "execution_count": 22,
   "id": "e983e08c",
   "metadata": {},
   "outputs": [
    {
     "data": {
      "text/plain": [
       "0"
      ]
     },
     "execution_count": 22,
     "metadata": {},
     "output_type": "execute_result"
    }
   ],
   "source": [
    "# 4(d)\n",
    "floor(pi) - ceil(e)"
   ]
  },
  {
   "cell_type": "code",
   "execution_count": 23,
   "id": "f0746e37",
   "metadata": {},
   "outputs": [
    {
     "data": {
      "text/plain": [
       "126"
      ]
     },
     "execution_count": 23,
     "metadata": {},
     "output_type": "execute_result"
    }
   ],
   "source": [
    "# 4(e)\n",
    "lcm(6 , 7 , 9)"
   ]
  },
  {
   "cell_type": "markdown",
   "id": "c6e31fea",
   "metadata": {},
   "source": [
    "## End Solutions for Chapter 1"
   ]
  }
 ],
 "metadata": {
  "kernelspec": {
   "display_name": "Python 3 (ipykernel)",
   "language": "python",
   "name": "python3"
  },
  "language_info": {
   "codemirror_mode": {
    "name": "ipython",
    "version": 3
   },
   "file_extension": ".py",
   "mimetype": "text/x-python",
   "name": "python",
   "nbconvert_exporter": "python",
   "pygments_lexer": "ipython3",
   "version": "3.11.3"
  }
 },
 "nbformat": 4,
 "nbformat_minor": 5
}

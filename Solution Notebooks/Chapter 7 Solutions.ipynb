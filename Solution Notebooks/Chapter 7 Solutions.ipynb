{
 "cells": [
  {
   "cell_type": "markdown",
   "id": "cf16413c",
   "metadata": {},
   "source": [
    "# CHAPTER 7: Introduction to Cryptography\n"
   ]
  },
  {
   "cell_type": "markdown",
   "id": "27b6f53f",
   "metadata": {},
   "source": [
    "## Solutions to Exercises\n",
    "\n",
    "$\\bf{ 1.}$ Write a Python program to decrypt a Caesar cipher. "
   ]
  },
  {
   "cell_type": "markdown",
   "id": "1168da28",
   "metadata": {},
   "source": [
    "### The Caesar Cipher\n",
    "\n",
    "Caesar's cipher is one of the simplest encryption techniques and is often used by children when learning how to send secret messages. It is a type of substitution cipher in which each letter in the plaintext is replaced by a letter some fixed number of positions down the alphabet. \n",
    "\n",
    "Wikipedia: https://en.wikipedia.org/wiki/Caesar_cipher\n",
    "\n",
    "Unicode is a universal character encoding standard. \n",
    "\n",
    "List of Unicode Characters: https://en.wikipedia.org/wiki/List_of_Unicode_characters"
   ]
  },
  {
   "cell_type": "code",
   "execution_count": 3,
   "id": "dbcd8c91",
   "metadata": {},
   "outputs": [
    {
     "name": "stdout",
     "output_type": "stream",
     "text": [
      "Text : FdhvhuqFlskhuqFrgh\n",
      "Shift : 3\n",
      "Cipher: CaesernCiphernCode\n"
     ]
    }
   ],
   "source": [
    "# 1. The Caeser Cipher: Decryption.\n",
    "shift = 3\n",
    "def decrypt(text , shift):\n",
    "    result = \"\"\n",
    "    for i in range(len(text)):\n",
    "        char = text[i]\n",
    "        if (char.isupper()): # Upper-case characters.\n",
    "            result += chr((ord(char) - shift - 65) % 26 + 65)\n",
    "        else:                # Lower-case characters.\n",
    "            result += chr((ord(char) - shift - 97) % 26 + 97)\n",
    "    return result\n",
    "\n",
    "# Insert text.\n",
    "text = \"FdhvhuqFlskhuqFrgh\"\n",
    "print(\"Text : \" + text)\n",
    "print(\"Shift : \" + str(shift))\n",
    "print(\"Cipher: \" + decrypt(text,shift))"
   ]
  },
  {
   "cell_type": "markdown",
   "id": "21a9c02b",
   "metadata": {},
   "source": [
    "$\\bf{ 2.}$ Determine $14 \\, \\hat \\,\\, 25$ by hand, and check your results with Python."
   ]
  },
  {
   "cell_type": "code",
   "execution_count": 4,
   "id": "2af3c7f5",
   "metadata": {},
   "outputs": [
    {
     "data": {
      "text/plain": [
       "(23, 23)"
      ]
     },
     "execution_count": 4,
     "metadata": {},
     "output_type": "execute_result"
    }
   ],
   "source": [
    "# 2. The XOR operator.\n",
    "\n",
    "14 ^ 25 , 0b01110 ^ 0b11001"
   ]
  },
  {
   "cell_type": "markdown",
   "id": "2ebcf489",
   "metadata": {},
   "source": [
    "$\\bf{ 3.}$ The Vigenère cipher, first described by Giovan Battista Bellaso in 1553, is a method of encrypting alphabetic text where each letter of the plaintext is encoded with a different Caesar cipher, whose increment is determined by the corresponding letter of another text, the key. Write a Python program for the Vigenère cipher: https://en.wikipedia.org/wiki/Vigenère_cipher.\n",
    "\n",
    "The program to decrypt the Vigenere cipher is given in the solutions for Chapter 12."
   ]
  },
  {
   "cell_type": "code",
   "execution_count": 9,
   "id": "3854f9d2",
   "metadata": {},
   "outputs": [
    {
     "name": "stdout",
     "output_type": "stream",
     "text": [
      "Encryption\n",
      "cipher text:  mwyioyuvbumqbhi\n"
     ]
    }
   ],
   "source": [
    "# 3. Vigenere Cipher Encryption.\n",
    "def vigenere(key, message):\n",
    "    message = message.lower()\n",
    "    # message = message.replace(\" \",\"\")\n",
    "    key_length = len(key)\n",
    "    cipher_text = \"\"\n",
    "    for i in range(len(message)):\n",
    "        letter = message[i]\n",
    "        k = key[i % key_length] \n",
    "        cipher_text = cipher_text + chr ((ord(letter) - 97 + k ) % 26 + 97)\n",
    "    return cipher_text\n",
    "\n",
    "if __name__==\"__main__\":\n",
    "    print (\"Encryption\")\n",
    "    key = \"rosebud\"\n",
    "    key = [ord(letter)-97 for letter in key]\n",
    "    \n",
    "    cipher_text = vigenere(key , \"Vigenere Cipher\")\n",
    "    print (\"cipher text: \",cipher_text)"
   ]
  },
  {
   "cell_type": "markdown",
   "id": "b9092bd9",
   "metadata": {},
   "source": [
    "$\\bf{ 4.}$ For those interetsed in cryptography, carry out a literature search on:\n",
    "\n",
    "(a) Symmetric Cryptography: block ciphers, stream ciphers, hash functions, keyed hashing and authenticated encryption.\n",
    "\n",
    "(b) Asymmetric Cryptography: Rivest-Shamir-Adleman (RSA) a public-key cryptosystem, Diffie-Hellman key exchange, authenticated encryption, elliptic curve cryptography and chaos synchronization cryptography.\n",
    "\n",
    "(c) For this problem, use the RSA public key cryptosystem. Bob chooses the prime numbers $p=19$ and $q=23$ and $e=7$. Alice wishes to send the number 11 to Bob.  What is the message sent? Confirm that Bob correctly decrypts this."
   ]
  },
  {
   "cell_type": "code",
   "execution_count": 10,
   "id": "171c4dd0",
   "metadata": {},
   "outputs": [
    {
     "data": {
      "text/plain": [
       "(True, True)"
      ]
     },
     "execution_count": 10,
     "metadata": {},
     "output_type": "execute_result"
    }
   ],
   "source": [
    "# 4. (c) RSA Public Key Cryptosystem.\n",
    "# Check two numbers, p and q, are prime.\n",
    "# In practice much larger primes would be chosen.\n",
    "from sympy import *\n",
    "isprime(19) , isprime(23)"
   ]
  },
  {
   "cell_type": "code",
   "execution_count": 11,
   "id": "2557c69f",
   "metadata": {},
   "outputs": [
    {
     "name": "stdout",
     "output_type": "stream",
     "text": [
      "n = 437\n",
      "phi =  396\n",
      "The gcd is 1\n",
      "x =  -113 , y =  2\n"
     ]
    }
   ],
   "source": [
    "# RSA Algorithm Example.\n",
    "from math import gcd \n",
    " \n",
    "# Step 1, choose two prime numbers (not large for this simple example).\n",
    "p , q = 19 , 23\n",
    " \n",
    "# Step 2, compute n.\n",
    "n = p * q\n",
    "print(\"n =\", n)\n",
    " \n",
    "# Step 3, compute phi(n).\n",
    "phi = (p - 1) * (q - 1)\n",
    " \n",
    "# Step 4, compute a public key, e say, there are many possibilities.\n",
    "# In this case, choose e = 7.\n",
    "\n",
    "#for e in range(2 , phi):\n",
    "#    if (gcd(e, phi) == 1):\n",
    "#        print(\"e =\", e)\n",
    "e = 7\n",
    "\n",
    "# Step 5: \n",
    "# Python program for the EEA.\n",
    "def extended_gcd(e, phi):\n",
    "    if e == 0:\n",
    "        return phi, 0, 1\n",
    "    else:\n",
    "        gcd, x, y = extended_gcd(phi % e, e)\n",
    "        return gcd, y - (phi // e) * x, x\n",
    "if __name__ == '__main__':\n",
    "    gcd, x, y = extended_gcd(e, phi)\n",
    "    print(\"phi = \" , phi)\n",
    "    print('The gcd is', gcd)\n",
    "    print(\"x = \" , x , \", y = \" , y)"
   ]
  },
  {
   "cell_type": "markdown",
   "id": "5b388773",
   "metadata": {},
   "source": [
    "In order to encrypt and decrypt, one has to compute $x^y$mod$(z)$. In Python, we use the built-in function pow(x , y , z), which takes three arguments. \n",
    "\n",
    "${\\bf IMPORTANT:}$ If you import pow from the math library it only takes two arguments."
   ]
  },
  {
   "cell_type": "code",
   "execution_count": 12,
   "id": "95a0b7ef",
   "metadata": {},
   "outputs": [
    {
     "name": "stdout",
     "output_type": "stream",
     "text": [
      "Original message: 11\n",
      "Encrypted message: 30\n",
      "Decrypted message: 11\n"
     ]
    }
   ],
   "source": [
    "# Encryption and decryption.\n",
    "# The message here is m = msg = 11.\n",
    "\n",
    "d , e , n = -113 , 7 , 437\n",
    "msg = 11\n",
    "print(f\"Original message: {msg}\")\n",
    " \n",
    "# Encryption\n",
    "E = pow(msg , e , n)\n",
    "print(f\"Encrypted message: {E}\")\n",
    " \n",
    "# Decryption\n",
    "D = pow(E , d , n)\n",
    "print(f\"Decrypted message: {D}\")  "
   ]
  },
  {
   "cell_type": "markdown",
   "id": "f21c29ef",
   "metadata": {},
   "source": [
    "## End Solutions for Chapter 7"
   ]
  }
 ],
 "metadata": {
  "kernelspec": {
   "display_name": "Python 3 (ipykernel)",
   "language": "python",
   "name": "python3"
  },
  "language_info": {
   "codemirror_mode": {
    "name": "ipython",
    "version": 3
   },
   "file_extension": ".py",
   "mimetype": "text/x-python",
   "name": "python",
   "nbconvert_exporter": "python",
   "pygments_lexer": "ipython3",
   "version": "3.9.13"
  }
 },
 "nbformat": 4,
 "nbformat_minor": 5
}

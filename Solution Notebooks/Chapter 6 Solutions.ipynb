{
 "cells": [
  {
   "cell_type": "markdown",
   "id": "cf16413c",
   "metadata": {},
   "source": [
    "# CHAPTER 6: Python for Mathematics"
   ]
  },
  {
   "cell_type": "markdown",
   "id": "1168da28",
   "metadata": {},
   "source": [
    "## Solutions to Exercises\n",
    "\n",
    "$\\bf{ 1.}$ (a) Given $s=ut+\\frac{1}{2}at^2$, determine $s$ if $u=1$, $t=1$, and $a=9.8$.\n",
    "\n",
    "(b) Expand $2x(x-4)$.\n",
    "\n",
    "(c) Expand $(x+y+1)(x-y+2)$.\n",
    "\n",
    "(d) Factorize $x^2-7x+12$."
   ]
  },
  {
   "cell_type": "code",
   "execution_count": 1,
   "id": "ed3fb7c2",
   "metadata": {},
   "outputs": [
    {
     "name": "stdout",
     "output_type": "stream",
     "text": [
      "s =  5.9\n"
     ]
    }
   ],
   "source": [
    "# 1. (a) Substitution.\n",
    "u , t , a = 1 , 1 , 9.8\n",
    "s = u * t + a * t**2 / 2\n",
    "print(\"s = \" , s)"
   ]
  },
  {
   "cell_type": "code",
   "execution_count": 4,
   "id": "bf6ea09e",
   "metadata": {},
   "outputs": [
    {
     "data": {
      "text/latex": [
       "$\\displaystyle 2 x^{2} - 8 x$"
      ],
      "text/plain": [
       "2*x**2 - 8*x"
      ]
     },
     "execution_count": 4,
     "metadata": {},
     "output_type": "execute_result"
    }
   ],
   "source": [
    "# 1. (b) Expansion.\n",
    "from sympy import symbols , expand\n",
    "x , y = symbols(\"x  y\")\n",
    "expand(2 * x * (x - 4)) "
   ]
  },
  {
   "cell_type": "code",
   "execution_count": 5,
   "id": "ff94714b",
   "metadata": {},
   "outputs": [
    {
     "data": {
      "text/latex": [
       "$\\displaystyle x^{2} + 3 x - y^{2} + y + 2$"
      ],
      "text/plain": [
       "x**2 + 3*x - y**2 + y + 2"
      ]
     },
     "execution_count": 5,
     "metadata": {},
     "output_type": "execute_result"
    }
   ],
   "source": [
    "# 1. (c) Expansion.\n",
    "expand((x + y + 1) * (x - y + 2))"
   ]
  },
  {
   "cell_type": "code",
   "execution_count": 11,
   "id": "6826c16f",
   "metadata": {},
   "outputs": [
    {
     "data": {
      "text/latex": [
       "$\\displaystyle \\left(x - 4\\right) \\left(x - 3\\right)$"
      ],
      "text/plain": [
       "(x - 4)*(x - 3)"
      ]
     },
     "execution_count": 11,
     "metadata": {},
     "output_type": "execute_result"
    }
   ],
   "source": [
    "# 1. (d) Factorization.\n",
    "from sympy import factor\n",
    "factor(x**2 - 7 * x + 12)"
   ]
  },
  {
   "cell_type": "markdown",
   "id": "c5b27a6c",
   "metadata": {},
   "source": [
    "$\\bf{ 2.}$ (a) Solve for $t$ given, $3=5+10t$.\n",
    "\n",
    "(b) Solve for $a$ given, $s=ut+\\frac{1}{2}at^2$.\n",
    "\n",
    "(c) Solve the quadratic equation, $2x^2+x-3=0$.\n",
    "\n",
    "(d) Determine where the line $y=x$ meets the circle $x^2+y^2=1$."
   ]
  },
  {
   "cell_type": "code",
   "execution_count": 12,
   "id": "f0a1dfdb",
   "metadata": {},
   "outputs": [
    {
     "data": {
      "text/plain": [
       "[-1/5]"
      ]
     },
     "execution_count": 12,
     "metadata": {},
     "output_type": "execute_result"
    }
   ],
   "source": [
    "# 2. (a) Solve for t.\n",
    "from sympy import symbols, solve\n",
    "t = symbols(\"t\")\n",
    "solve(3 -5 - 10 * t , t)"
   ]
  },
  {
   "cell_type": "code",
   "execution_count": 13,
   "id": "d083546c",
   "metadata": {},
   "outputs": [
    {
     "data": {
      "text/plain": [
       "[2*(s - t*u)/t**2]"
      ]
     },
     "execution_count": 13,
     "metadata": {},
     "output_type": "execute_result"
    }
   ],
   "source": [
    "# 2. (b) Solve for a.\n",
    "a , s , u , t = symbols(\"a s u t\")\n",
    "solve(s - u * t - a * t**2 / 2 , a)"
   ]
  },
  {
   "cell_type": "code",
   "execution_count": 14,
   "id": "63da8bfa",
   "metadata": {},
   "outputs": [
    {
     "data": {
      "text/plain": [
       "[-3/2, 1]"
      ]
     },
     "execution_count": 14,
     "metadata": {},
     "output_type": "execute_result"
    }
   ],
   "source": [
    "# 2. (c) Solve for x.\n",
    "x = symbols(\"x\")\n",
    "solve(2 * x**2 + x - 3 , x)"
   ]
  },
  {
   "cell_type": "code",
   "execution_count": 16,
   "id": "d4c2c1a9",
   "metadata": {},
   "outputs": [
    {
     "name": "stdout",
     "output_type": "stream",
     "text": [
      "[(-sqrt(2)/2, -sqrt(2)/2), (sqrt(2)/2, sqrt(2)/2)]\n"
     ]
    }
   ],
   "source": [
    "# 2. (d) Where a line meets a circle.\n",
    "sol = solve([y - x , x**2 + y**2 - 1] , [x , y])\n",
    "print(sol)"
   ]
  },
  {
   "cell_type": "markdown",
   "id": "a1f53307",
   "metadata": {},
   "source": [
    "$\\bf{ 3.}$ (a) If $f(x)=\\frac{2x+3}{x-5}$, determine $f(4)$.\n",
    "\n",
    "(b) Plot the function $f(x)=\\frac{2x+3}{x-5}$, and determine where $f(x)=1$.\n",
    "\n",
    "(c) Given $g(x)=3x+4$ and $h(x)=1-x^2$, find $g(h(x))-h(g(x))$.\n",
    "\n",
    "(d) The logistic map function is defined by, $f_{\\mu}(x)=\\mu x(1-x)$. Compute $f_{\\mu}\\left(f_{\\mu}(x) \\right)$."
   ]
  },
  {
   "cell_type": "code",
   "execution_count": 17,
   "id": "3f764acc",
   "metadata": {},
   "outputs": [
    {
     "name": "stdout",
     "output_type": "stream",
     "text": [
      "f(4) =  -11.0\n"
     ]
    }
   ],
   "source": [
    "# 3. (a) Define a function.\n",
    "def f(x):\n",
    "    return (2 * x + 3) / (x - 5)\n",
    "print(\"f(4) = \" , f(4))"
   ]
  },
  {
   "cell_type": "code",
   "execution_count": 25,
   "id": "87aca8da",
   "metadata": {},
   "outputs": [
    {
     "data": {
      "image/png": "[encoded data removed]",
      "text/plain": [
       "<Figure size 640x480 with 1 Axes>"
      ]
     },
     "metadata": {},
     "output_type": "display_data"
    },
    {
     "name": "stdout",
     "output_type": "stream",
     "text": [
      "y=f(x)=1, when  x = -8\n"
     ]
    }
   ],
   "source": [
    "# 3. (b) Define a function and determine when it is equal to one.\n",
    "import matplotlib.pyplot as plt\n",
    "import numpy as np\n",
    "from sympy import *\n",
    "def g(x):\n",
    "    return (2 * x + 3) / (x - 5)\n",
    "x = np.linspace(-10 , 10 , 100)\n",
    "y = (2 * x + 3) / (x - 5)\n",
    "plt.xlabel(\"x\")\n",
    "plt.ylabel(\"f(x)\")\n",
    "plt.plot(x , y)\n",
    "plt.ylim(-50 , 50)\n",
    "plt.show()\n",
    "x = symbols(\"x\")\n",
    "sol = solve((2 * x + 3) / (x - 5) - 1 , x)\n",
    "print(\"y=f(x)=1, when \" , \"x =\" , sol[0])"
   ]
  },
  {
   "cell_type": "code",
   "execution_count": 26,
   "id": "e71c91ad",
   "metadata": {},
   "outputs": [
    {
     "name": "stdout",
     "output_type": "stream",
     "text": [
      "g(h(x))-h(g(x)) =  -3*x**2 + (3*x + 4)**2 + 6\n"
     ]
    }
   ],
   "source": [
    "# 3. (c) Functions of functions (composition of functions).\n",
    "def g(x):\n",
    "    return 3 * x + 4\n",
    "def h(x):\n",
    "    return 1 - x**2\n",
    "print(\"g(h(x))-h(g(x)) = \" , g(h(x)) - h(g(x)))"
   ]
  },
  {
   "cell_type": "code",
   "execution_count": 27,
   "id": "9ab04dea",
   "metadata": {},
   "outputs": [
    {
     "name": "stdout",
     "output_type": "stream",
     "text": [
      "f_mu(f_mu(x)) =  mu**2*x*(1 - x)*(-mu*x*(1 - x) + 1)\n"
     ]
    }
   ],
   "source": [
    "# 3. (d) Functions of functions (composition of functions).\n",
    "mu = symbols(\"mu\")\n",
    "def f_mu(x):\n",
    "    return mu * x * (1 - x)\n",
    "print(\"f_mu(f_mu(x)) = \" , f_mu(f_mu(x)))"
   ]
  },
  {
   "cell_type": "markdown",
   "id": "fc79ec70",
   "metadata": {},
   "source": [
    "$\\bf{ 4.}$ (a) If $y=\\sin(2x)$, compute $\\frac{dy}{dx}$.\n",
    "\n",
    "(b) Determine $\\left.  \\frac{dy}{dx} \\right|_{x=0}$ for $y=x^3-1$.\n",
    "\n",
    "(c) Determine the area bound by the curves, $y=1-x^2$ and $y=x^2-1$.\n",
    "\n",
    "(d) Plot the curves, $y=1-x^2$ and $y=x^2-1$, and shade the area between the curves."
   ]
  },
  {
   "cell_type": "code",
   "execution_count": 30,
   "id": "8a18997d",
   "metadata": {},
   "outputs": [
    {
     "name": "stdout",
     "output_type": "stream",
     "text": [
      "dy/dx =  2*cos(2*x)\n"
     ]
    }
   ],
   "source": [
    "# 4. (a) Differentiate\n",
    "from sympy import *\n",
    "x , y = symbols(\"x y\")\n",
    "print(\"dy/dx = \" , diff(sin(2 * x) , x))"
   ]
  },
  {
   "cell_type": "code",
   "execution_count": 31,
   "id": "4bf43e6e",
   "metadata": {},
   "outputs": [
    {
     "name": "stdout",
     "output_type": "stream",
     "text": [
      "m =  0\n"
     ]
    }
   ],
   "source": [
    "# 4. (b) Find the gradient at x=0. Use the subs function from sympy.\n",
    "x , y , c = symbols(\"x y c\")\n",
    "xval = 0\n",
    "y = x**3 - 1\n",
    "dydx = diff(y , x)\n",
    "# The gradient (m) of the tangent.\n",
    "m = dydx.subs(x , xval)\n",
    "print(\"m = \" , m)"
   ]
  },
  {
   "cell_type": "code",
   "execution_count": 42,
   "id": "549f01e0",
   "metadata": {},
   "outputs": [
    {
     "name": "stdout",
     "output_type": "stream",
     "text": [
      "Area =  8/3 units squared\n"
     ]
    }
   ],
   "source": [
    "# 4. (c) Using integration to determine the area.\n",
    "# Determine where the graphs meet.\n",
    "soln = solve([1 - x**2 , x**2 - 1])\n",
    "A = integrate((1 - x**2) - (x**2 - 1) , (x , soln[0].get(x) , soln[1].get(x)))\n",
    "print(\"Area = \" , A , \"units squared\")"
   ]
  },
  {
   "cell_type": "code",
   "execution_count": 44,
   "id": "821ca90b",
   "metadata": {},
   "outputs": [
    {
     "data": {
      "image/png": "[encoded data removed]",
      "text/plain": [
       "<Figure size 640x480 with 1 Axes>"
      ]
     },
     "metadata": {},
     "output_type": "display_data"
    }
   ],
   "source": [
    "# 4. (d) Shading the area between the curves.\n",
    "import numpy as np\n",
    "from matplotlib import pyplot as plt\n",
    "def f(x):\n",
    "    return 1 - x**2\n",
    "def g(x):\n",
    "    return x**2 - 1\n",
    "x = np.arange(-1.2 , 1.2 , 0.01)\n",
    "plt.plot(x , f(x) , x , g(x))\n",
    "\n",
    "# Shade the area.\n",
    "plt.fill_between(\n",
    "        x = x,\n",
    "        y1 = f(x), \n",
    "        y2 = g(x), \n",
    "        where = (-1 <= x) & (x <= 1),  # Limits of integration.\n",
    "        color = \"b\",                   # Color of shading.\n",
    "        alpha = 0.3)                   # Transparency.\n",
    "plt.show()"
   ]
  },
  {
   "cell_type": "markdown",
   "id": "5ce4d4c8",
   "metadata": {},
   "source": [
    "### Python for A-Level Mathematics and Beyond\n",
    "\n",
    "A Jupyter notebook showing how you can use Python to give a deeper understanding of A-Level (High-School) Maths:\n",
    "\n",
    "https://drstephenlynch.github.io/webpages/Python_for_A_Level_Mathematics_and_Beyond.html\n",
    "\n",
    "The notebook covers all of the material in the UK A-Level Mathematics syllabus.\n",
    "\n",
    "Students get a deeper understanding by checking handwritten results, plotting curves and producing animations."
   ]
  }
 ],
 "metadata": {
  "kernelspec": {
   "display_name": "Python 3 (ipykernel)",
   "language": "python",
   "name": "python3"
  },
  "language_info": {
   "codemirror_mode": {
    "name": "ipython",
    "version": 3
   },
   "file_extension": ".py",
   "mimetype": "text/x-python",
   "name": "python",
   "nbconvert_exporter": "python",
   "pygments_lexer": "ipython3",
   "version": "3.9.13"
  }
 },
 "nbformat": 4,
 "nbformat_minor": 5
}

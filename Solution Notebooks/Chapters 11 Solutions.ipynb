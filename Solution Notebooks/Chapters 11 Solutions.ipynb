{
 "cells": [
  {
   "cell_type": "markdown",
   "id": "cf16413c",
   "metadata": {},
   "source": [
    "# Chapter 11: Object Oriented Programming"
   ]
  },
  {
   "cell_type": "markdown",
   "id": "31daac8d",
   "metadata": {},
   "source": [
    "## Solutions to Exercises\n",
    "\n",
    "${\\bf 1.}$ You have been employed by Chester Zoo as a software engineer. Create an Animal class with attributes name, age, sex and feeding time. The Animal class has three methods, resting, moving and sleeping.   "
   ]
  },
  {
   "cell_type": "code",
   "execution_count": 1,
   "id": "fd16c507",
   "metadata": {},
   "outputs": [],
   "source": [
    "# 1. Define a class.\n",
    "class Animal:\n",
    "    # Attributes.\n",
    "    def __init__(self, name, age, sex, feeding_time):\n",
    "        self.name = name\n",
    "        self.age = age\n",
    "        self.sex = sex\n",
    "        self.feeding_time = feeding_time\n",
    "    # Methods.\n",
    "    def resting(self):\n",
    "        return \"resting\"\n",
    "    def moving(self):\n",
    "        return \"moving\"\n",
    "    def sleeping(self):\n",
    "        return \"sleeping\""
   ]
  },
  {
   "cell_type": "markdown",
   "id": "620bd026",
   "metadata": {},
   "source": [
    "${\\bf 2.}$ Create 10 animal objects of your choice and introduce private attributes called feed_cost and vet_cost."
   ]
  },
  {
   "cell_type": "code",
   "execution_count": 2,
   "id": "875e75e2",
   "metadata": {},
   "outputs": [
    {
     "name": "stdout",
     "output_type": "stream",
     "text": [
      "Female\n",
      "1400\n"
     ]
    }
   ],
   "source": [
    "# 2. Define a class with hidden attributes.\n",
    "class Animal:\n",
    "    # Attributes.\n",
    "    def __init__(self, name, age, sex, feeding_time,feed_cost,vet_cost):\n",
    "        self.name = name\n",
    "        self.age = age\n",
    "        self.sex = sex\n",
    "        self.feeding_time = feeding_time\n",
    "        # Private attributes.\n",
    "        self.__feed_cost = feed_cost \n",
    "        self.__vet_cost = vet_cost\n",
    "    # Methods.\n",
    "    def resting(self):\n",
    "        return \"resting\"\n",
    "    def moving(self):\n",
    "        return \"moving\"\n",
    "    def sleeping(self):\n",
    "        return \"sleeping\"\n",
    "\n",
    "# Create animal objects.\n",
    "Baboon = Animal(\"Bobby\",3,\"Male\",1400,120,100)\n",
    "Cougar = Animal(\"Connie\",2,\"Female\",1700,120,100)\n",
    "Elephant = Animal(\"Ernie\",8,\"Male\",1400,500,200)\n",
    "Giraffe = Animal(\"Gertie\",3,\"Female\",1400,200,100)\n",
    "Hyena = Animal(\"Harry\",2,\"Male\",1700,120,100)\n",
    "Jaguar = Animal(\"Jack\",5,\"Male\",1700,120,100)\n",
    "Lion = Animal(\"Leo\",6,\"Male\",1700,300,100)\n",
    "Penguin = Animal(\"Poppy\",3,\"Female\",1400,60,50)\n",
    "Tiger = Animal(\"Tommy\",2,\"Male\",1700,120,100)\n",
    "\n",
    "print(Cougar.sex)\n",
    "print(Elephant.feeding_time)"
   ]
  },
  {
   "cell_type": "markdown",
   "id": "1ffc3f7d",
   "metadata": {},
   "source": [
    "${\\bf 3.}$ Using Inheritence, create a parent class called Animal and child classes called Big_Cats, Monkeys and Birds. Find out which animals are housed at your local zoo and create some objects with attributes and methods in each of these classes."
   ]
  },
  {
   "cell_type": "code",
   "execution_count": 5,
   "id": "503ecb10",
   "metadata": {},
   "outputs": [
    {
     "name": "stdout",
     "output_type": "stream",
     "text": [
      "Error: Fungi can't talk!\n",
      "Tiger says: ROARRR!\n",
      "Gibbon says: ooh, ooh, aah, aah!\n",
      "Parrot says: squawk, squawk!\n"
     ]
    }
   ],
   "source": [
    "# 3. # Animal class.\n",
    "class Animal:\n",
    "    def __init__(self, name):\n",
    "        self.name = name\n",
    "    def talk(self):\n",
    "        print(\"Error:\",self.name,\"can't talk!\")     \n",
    "# Child class.\n",
    "class Big_Cats(Animal):\n",
    "    def talk(self):\n",
    "        print(self.name , \"says: ROARRR!\")\n",
    "class Monkeys(Animal):\n",
    "    def talk(self):\n",
    "        print(self.name , \"says: ooh, ooh, aah, aah!\")\n",
    "class Birds(Animal):\n",
    "    def talk(self):\n",
    "        print(self.name , \"says: squawk, squawk!\")\n",
    "\n",
    "\n",
    "# Create objects of class Animal.\n",
    "zoo_microbe = Animal(\"Fungi\")\n",
    "zoo_microbe.talk()\n",
    "zoo_cat = Big_Cats(\"Tiger\")\n",
    "zoo_cat.talk()\n",
    "zoo_monkey = Monkeys(\"Gibbon\")\n",
    "zoo_monkey.talk()\n",
    "zoo_bird = Birds(\"Parrot\")\n",
    "zoo_bird.talk()"
   ]
  },
  {
   "cell_type": "markdown",
   "id": "894c9d60",
   "metadata": {},
   "source": [
    "${\\bf 4.}$ List the objects, attributes and methods required to create a \"Break the Bricks\" game. The player moves the paddle left and right to hit the ball. The aqua colored bricks (lowest level) break after one hit, the tomato colored bricks (middle level) break after two hits, and the lawn green colored bricks (top level) break after three hits. You win the game if all bricks are destroyed. \n",
    "\n",
    "A full working program is listed in Chapter 12. Have fun playing it!\n",
    "\n",
    "You could make the program more realistic by introducing friction and spin on the ball!"
   ]
  },
  {
   "cell_type": "markdown",
   "id": "8e5315d9",
   "metadata": {},
   "source": [
    "### List of objects, attributes and methods used in the program:\n",
    "\n",
    "Parent Class\n",
    "\n",
    "Class1 Brick_Breaker_Game\n",
    "\n",
    "Attributes: canvas, item\n",
    "\n",
    "Methods: get_position, move, delete\n",
    "\n",
    "Child Class\n",
    "\n",
    "Class2: Ball\n",
    "\n",
    "Attributes: canvas, x , y\n",
    "\n",
    "Methods: update, collide\n",
    "\n",
    "Child Class\n",
    "\n",
    "Class3: Paddle\n",
    "\n",
    "Attributes: canvas, x , y\n",
    "\n",
    "Methods: set_ball, move\n",
    "\n",
    "Child Class\n",
    "\n",
    "Class4: Brick\n",
    "\n",
    "Attributes: canvas, x , y , hits\n",
    "\n",
    "Methods: hit\n",
    "\n",
    "Class4: Game\n",
    "\n",
    "Attributes: master\n",
    "\n",
    "Methods: setup_game, add_ball, add_brick, draw_text, update_lives_text, start_game,\n",
    "         game_loop, check_collisions\n",
    "         "
   ]
  },
  {
   "cell_type": "markdown",
   "id": "9e941560",
   "metadata": {},
   "source": [
    "\n",
    "# End Chapter 11"
   ]
  }
 ],
 "metadata": {
  "kernelspec": {
   "display_name": "Python 3 (ipykernel)",
   "language": "python",
   "name": "python3"
  },
  "language_info": {
   "codemirror_mode": {
    "name": "ipython",
    "version": 3
   },
   "file_extension": ".py",
   "mimetype": "text/x-python",
   "name": "python",
   "nbconvert_exporter": "python",
   "pygments_lexer": "ipython3",
   "version": "3.9.13"
  }
 },
 "nbformat": 4,
 "nbformat_minor": 5
}

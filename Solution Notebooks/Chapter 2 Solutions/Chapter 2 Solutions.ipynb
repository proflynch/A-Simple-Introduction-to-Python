{
 "cells": [
  {
   "cell_type": "markdown",
   "id": "27b6f53f",
   "metadata": {},
   "source": [
    "# CHAPTER 2: Simple Programming with Python "
   ]
  },
  {
   "cell_type": "markdown",
   "id": "a625dfd6",
   "metadata": {},
   "source": [
    "(Use IDLE, Spyder or a Jupyter notebook)"
   ]
  },
  {
   "cell_type": "markdown",
   "id": "03a36b23",
   "metadata": {},
   "source": [
    "<figure>\n",
    "<img src = \"Python Programming.png\" , width = \"600\">\n",
    "</figure>"
   ]
  },
  {
   "cell_type": "markdown",
   "id": "f21c29ef",
   "metadata": {},
   "source": [
    "# Solutions\n",
    "\n",
    "$\\bf{1.}$ (a) Given the list, $A=[[1,2,3,4],[5,6,7,8],[9,10,11,12],[13,14,15,16]]$, how would you access the third element in the second list?\n",
    "\n",
    "(b) Slice $A$ to remove row 3 and columns 1 and 2.\n",
    "\n",
    "(c) Construct a list of the form: $[-9,-5,-1,\\ldots,195,199]$.\n",
    "\n",
    "(d) Create a dictionary data type for a car with key:value pairs, brand:BMW, year:2018, color:red, mileage:30000, and fuel:petrol."
   ]
  },
  {
   "cell_type": "code",
   "execution_count": null,
   "id": "036e2c90",
   "metadata": {},
   "outputs": [],
   "source": []
  },
  {
   "cell_type": "markdown",
   "id": "655dbfb1",
   "metadata": {},
   "source": [
    "$\\bf{2.}$  Write a function for converting degrees Fahrenheit to degrees Centigrade. "
   ]
  },
  {
   "cell_type": "code",
   "execution_count": null,
   "id": "3d2c3dd3",
   "metadata": {},
   "outputs": [],
   "source": []
  },
  {
   "cell_type": "markdown",
   "id": "7c65ae46",
   "metadata": {},
   "source": [
    "$\\bf{3.}$  (a) Define a function called sigmoid whose formula is given by:\n",
    "\n",
    "$$\n",
    "\\sigma(x)=\\frac{1}{1+e^{-x}},\n",
    "$$\n",
    "\n",
    "where $x$ is a real number. Determine $\\sigma(0.5)$. This is an activation function used in AI.\n",
    "\n",
    "(b) The function hsgn(x) is defined as:\n",
    "    \n",
    "$$\n",
    "\\mathrm{hsgn}(x)= \\left \\{\n",
    "    \\begin{array} \\\\\n",
    "        1 & \\mathrm{if} & x > 0 \\\\\n",
    "        0 & \\mathrm{if} & x = 0 \\\\\n",
    "        -1 & \\mathrm{if} & x < 0 \\\\\n",
    "    \\end{array}\n",
    "\\right . \n",
    ".$$\n",
    "\n",
    "Write a Python program that defines this function and determine $\\mathrm{hsgn}(-6)$. "
   ]
  },
  {
   "cell_type": "code",
   "execution_count": null,
   "id": "5a24db41",
   "metadata": {},
   "outputs": [],
   "source": []
  },
  {
   "cell_type": "markdown",
   "id": "810ebb30",
   "metadata": {},
   "source": [
    "$\\bf{4.}$  (a) Write an interactive Python program to play a “guess the number” game. The computer should think of a random integer between 1 and 20, and the user (player) has to try to guess the number within six attempts. The program should let the player know if the guess is too high or too low. Readers will need the randint function from the random module, examples and syntax can be found on the internet.\n",
    "\n",
    "(b) Consider Pythagorean triples, positive integers $a,b,c$, such that $a^2 +b^2 = c^2$. Suppose that $c$ is defined by $c = b + n$, where $n$ is also an integer. Write a Python program that will find all such triples for a given value of $n$, where both $a$ and $b$ are less than or equal to a maximum value, $m$, say. For the case $n = 1$, find all triples with $1 \\leq a \\leq 100$ and $1 \\leq b \\leq 100$. For the case $n = 3$, find all triples with $1 \\leq a \\leq 200$ and $1 \\leq b \\leq 200$."
   ]
  },
  {
   "cell_type": "code",
   "execution_count": null,
   "id": "d9e3a7ce",
   "metadata": {},
   "outputs": [],
   "source": []
  },
  {
   "cell_type": "markdown",
   "id": "6a6c86cd",
   "metadata": {},
   "source": [
    "## End Solutions for Chapter 2"
   ]
  }
 ],
 "metadata": {
  "kernelspec": {
   "display_name": "Python 3 (ipykernel)",
   "language": "python",
   "name": "python3"
  },
  "language_info": {
   "codemirror_mode": {
    "name": "ipython",
    "version": 3
   },
   "file_extension": ".py",
   "mimetype": "text/x-python",
   "name": "python",
   "nbconvert_exporter": "python",
   "pygments_lexer": "ipython3",
   "version": "3.11.3"
  }
 },
 "nbformat": 4,
 "nbformat_minor": 5
}

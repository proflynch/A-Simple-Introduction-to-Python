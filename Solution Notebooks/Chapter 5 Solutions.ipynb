{
 "cells": [
  {
   "cell_type": "markdown",
   "id": "cf16413c",
   "metadata": {},
   "source": [
    "# CHAPTER 5: Google Colab, SymPy and GitHub"
   ]
  },
  {
   "cell_type": "markdown",
   "id": "1168da28",
   "metadata": {},
   "source": [
    "# Solutions to Exercises\n",
    "\n",
    "Create your own notebook and include the questions in your solutions.\n",
    "\n",
    "${\\bf 1.}$ Use SymPy to:\n",
    "\n",
    "(a) Factorize $x^3-y^3$.\n",
    "\n",
    "(b) Solve $x^2-7x-30=0$.\n",
    "\n",
    "(c) Split into partial fractions $\\frac{3x}{(x-1)(x+2)(x-5)}$.\n",
    "\n",
    "(d) Expand $(y+x-3)(x^2-y+4)$.\n",
    "\n",
    "(e) Solve the linear simultaneous equations: $y=2x+2$ and $y=-3x+1$."
   ]
  },
  {
   "cell_type": "markdown",
   "id": "e37c699b",
   "metadata": {},
   "source": [
    "### SYMBOLIC PYTHON (SYMPY)\n",
    "\n",
    "SymPy is a computer algebra system and a Python library for symbolic mathematics written entirely in Python. For more information, see the sympy help pages at:\n",
    "\n",
    "https://docs.sympy.org/latest/index.html."
   ]
  },
  {
   "cell_type": "code",
   "execution_count": 2,
   "id": "3f764acc",
   "metadata": {},
   "outputs": [],
   "source": [
    "# Import all of the functions from the SymPy library.\n",
    "from sympy import *\n",
    "x , y = symbols(\"x y\") # Declare symbolic objects."
   ]
  },
  {
   "cell_type": "code",
   "execution_count": 3,
   "id": "4bf43e6e",
   "metadata": {},
   "outputs": [
    {
     "data": {
      "text/latex": [
       "$\\displaystyle \\left(x - y\\right) \\left(x^{2} + x y + y^{2}\\right)$"
      ],
      "text/plain": [
       "(x - y)*(x**2 + x*y + y**2)"
      ]
     },
     "execution_count": 3,
     "metadata": {},
     "output_type": "execute_result"
    }
   ],
   "source": [
    "# 1. (a) Factorization.\n",
    "factor(x**3 - y**3)"
   ]
  },
  {
   "cell_type": "code",
   "execution_count": 4,
   "id": "549f01e0",
   "metadata": {},
   "outputs": [
    {
     "data": {
      "text/plain": [
       "[-3, 10]"
      ]
     },
     "execution_count": 4,
     "metadata": {},
     "output_type": "execute_result"
    }
   ],
   "source": [
    "# 1. (b) Solve the algebraic quadratic equation.\n",
    "solve(x**2 - 7 * x - 30 , x)"
   ]
  },
  {
   "cell_type": "code",
   "execution_count": 6,
   "id": "f3e4c2ba",
   "metadata": {},
   "outputs": [
    {
     "data": {
      "text/latex": [
       "$\\displaystyle - \\frac{2}{7 \\left(x + 2\\right)} - \\frac{1}{4 \\left(x - 1\\right)} + \\frac{15}{28 \\left(x - 5\\right)}$"
      ],
      "text/plain": [
       "-2/(7*(x + 2)) - 1/(4*(x - 1)) + 15/(28*(x - 5))"
      ]
     },
     "execution_count": 6,
     "metadata": {},
     "output_type": "execute_result"
    }
   ],
   "source": [
    "# 1. (c) Partial fractions.\n",
    "apart(3 * x / ((x - 1) * (x + 2) * (x - 5)))"
   ]
  },
  {
   "cell_type": "code",
   "execution_count": 7,
   "id": "9a6911db",
   "metadata": {},
   "outputs": [
    {
     "data": {
      "text/latex": [
       "$\\displaystyle x^{3} + x^{2} y - 3 x^{2} - x y + 4 x - y^{2} + 7 y - 12$"
      ],
      "text/plain": [
       "x**3 + x**2*y - 3*x**2 - x*y + 4*x - y**2 + 7*y - 12"
      ]
     },
     "execution_count": 7,
     "metadata": {},
     "output_type": "execute_result"
    }
   ],
   "source": [
    "# 1. (d) Expansion.\n",
    "expand((x + y - 3) * (x**2 - y + 4))"
   ]
  },
  {
   "cell_type": "code",
   "execution_count": 8,
   "id": "a4c7b338",
   "metadata": {},
   "outputs": [
    {
     "data": {
      "text/plain": [
       "{x: -1/5, y: 8/5}"
      ]
     },
     "execution_count": 8,
     "metadata": {},
     "output_type": "execute_result"
    }
   ],
   "source": [
    "# 1. (e) Solving linear simultaneous equations.\n",
    "solve([2 * x + 2 - y , y + 3 * x - 1] , [x , y])"
   ]
  },
  {
   "cell_type": "markdown",
   "id": "9e80d4dd",
   "metadata": {},
   "source": [
    "${\\bf 2.}$ Compute the following using SymPy:\n",
    "\n",
    "(a) $\\lim_{x \\rightarrow 1} \\frac{x-1}{x^2-1}$.\n",
    "\n",
    "(b) The dervivative of $y=x^2-6x+9$.\n",
    "\n",
    "(c) The derivative of $y=\\cos(3x)$.\n",
    "\n",
    "(d) The derivative of $y=2e^x-1$.\n",
    "\n",
    "(e) The derivative of $y=x\\sin(2x)$."
   ]
  },
  {
   "cell_type": "code",
   "execution_count": 10,
   "id": "0e019799",
   "metadata": {},
   "outputs": [
    {
     "data": {
      "text/latex": [
       "$\\displaystyle \\infty$"
      ],
      "text/plain": [
       "oo"
      ]
     },
     "execution_count": 10,
     "metadata": {},
     "output_type": "execute_result"
    }
   ],
   "source": [
    "# 2. (a) Limits.\n",
    "limit((x + 1) / (x**2 - 1) , x , 1)"
   ]
  },
  {
   "cell_type": "code",
   "execution_count": 11,
   "id": "5670891b",
   "metadata": {},
   "outputs": [
    {
     "data": {
      "text/latex": [
       "$\\displaystyle 2 x - 6$"
      ],
      "text/plain": [
       "2*x - 6"
      ]
     },
     "execution_count": 11,
     "metadata": {},
     "output_type": "execute_result"
    }
   ],
   "source": [
    "# 2. (b) Differentiation.\n",
    "diff(x**2 - 6 * x + 9 , x)"
   ]
  },
  {
   "cell_type": "code",
   "execution_count": 12,
   "id": "88bf395c",
   "metadata": {},
   "outputs": [
    {
     "data": {
      "text/latex": [
       "$\\displaystyle - 3 \\sin{\\left(3 x \\right)}$"
      ],
      "text/plain": [
       "-3*sin(3*x)"
      ]
     },
     "execution_count": 12,
     "metadata": {},
     "output_type": "execute_result"
    }
   ],
   "source": [
    "# 2. (c) Differentiation.\n",
    "diff(cos(3 * x) , x)"
   ]
  },
  {
   "cell_type": "code",
   "execution_count": 13,
   "id": "fddc099c",
   "metadata": {},
   "outputs": [
    {
     "data": {
      "text/latex": [
       "$\\displaystyle 2 e^{x}$"
      ],
      "text/plain": [
       "2*exp(x)"
      ]
     },
     "execution_count": 13,
     "metadata": {},
     "output_type": "execute_result"
    }
   ],
   "source": [
    "# 2. (d) Differentiation.\n",
    "diff(2 * exp(x) - 1 , x)"
   ]
  },
  {
   "cell_type": "code",
   "execution_count": 14,
   "id": "212d2bda",
   "metadata": {},
   "outputs": [
    {
     "data": {
      "text/latex": [
       "$\\displaystyle 2 x \\cos{\\left(2 x \\right)} + \\sin{\\left(2 x \\right)}$"
      ],
      "text/plain": [
       "2*x*cos(2*x) + sin(2*x)"
      ]
     },
     "execution_count": 14,
     "metadata": {},
     "output_type": "execute_result"
    }
   ],
   "source": [
    "# 2. (e) Differentiation.\n",
    "diff(x * sin(2 * x) , x)"
   ]
  },
  {
   "cell_type": "markdown",
   "id": "4f31f580",
   "metadata": {},
   "source": [
    "${\\bf 3.}$ Determine the following integrals using SymPy:\n",
    "\n",
    "(a) $\\int x^5 dx$.\n",
    "\n",
    "(b) $\\int_{x=1}^{4} x^5dx$.\n",
    "\n",
    "(c) $\\int \\cos(3x) dx$.\n",
    "\n",
    "(d) $\\int_{x=0}^{1} x\\sin(x)dx$.\n",
    "\n",
    "(e) $\\int_{x=1}^{\\infty} \\frac{1}{x}dx$. Use oo for $\\infty$ in Python."
   ]
  },
  {
   "cell_type": "code",
   "execution_count": 15,
   "id": "9c78fe7e",
   "metadata": {},
   "outputs": [
    {
     "name": "stdout",
     "output_type": "stream",
     "text": [
      "x**6/6 + c\n"
     ]
    }
   ],
   "source": [
    "# 3. (a) Indefinite integration.\n",
    "print(integrate(x**5) , \"+ c\")"
   ]
  },
  {
   "cell_type": "code",
   "execution_count": 16,
   "id": "a3ab3148",
   "metadata": {},
   "outputs": [
    {
     "data": {
      "text/latex": [
       "$\\displaystyle \\frac{1365}{2}$"
      ],
      "text/plain": [
       "1365/2"
      ]
     },
     "execution_count": 16,
     "metadata": {},
     "output_type": "execute_result"
    }
   ],
   "source": [
    "# 3. (b) Definite integration (to determine the area under a curve).\n",
    "integrate(x**5 , (x , 1 , 4))"
   ]
  },
  {
   "cell_type": "code",
   "execution_count": 17,
   "id": "a4b7c2b1",
   "metadata": {},
   "outputs": [
    {
     "name": "stdout",
     "output_type": "stream",
     "text": [
      "sin(3*x)/3 + c\n"
     ]
    }
   ],
   "source": [
    "# 3. (c) Indefinite integration.\n",
    "print(integrate(cos(3 * x) , x) , \"+ c\")"
   ]
  },
  {
   "cell_type": "code",
   "execution_count": 18,
   "id": "9d93f241",
   "metadata": {},
   "outputs": [
    {
     "data": {
      "text/latex": [
       "$\\displaystyle - \\cos{\\left(1 \\right)} + \\sin{\\left(1 \\right)}$"
      ],
      "text/plain": [
       "-cos(1) + sin(1)"
      ]
     },
     "execution_count": 18,
     "metadata": {},
     "output_type": "execute_result"
    }
   ],
   "source": [
    "# 3. (d) Definite integration (to determine the area under a curve).\n",
    "integrate(x * sin(x) , (x , 0 , 1))"
   ]
  },
  {
   "cell_type": "code",
   "execution_count": 19,
   "id": "0738b19a",
   "metadata": {},
   "outputs": [
    {
     "data": {
      "text/latex": [
       "$\\displaystyle \\infty$"
      ],
      "text/plain": [
       "oo"
      ]
     },
     "execution_count": 19,
     "metadata": {},
     "output_type": "execute_result"
    }
   ],
   "source": [
    "# 3. (e) Improper integration (to determine the area under a curve).\n",
    "integrate(1 / x , (x , 1 , oo))"
   ]
  },
  {
   "cell_type": "markdown",
   "id": "69612ed3",
   "metadata": {},
   "source": [
    "${\\bf 4.}$ Given that \n",
    "\n",
    "$A=\\begin{pmatrix}\n",
    "1 & 2 \\\\\n",
    "-1 & 0 \n",
    "\\end{pmatrix}$ and $B=\\begin{pmatrix}\n",
    "1 & -3 \\\\\n",
    "4 & 7 \n",
    "\\end{pmatrix}$,\n",
    "\n",
    "determine:\n",
    "\n",
    "(a) $2A$.\n",
    "\n",
    "(b) $3A+4B$.\n",
    "\n",
    "(c) $A \\times B$.\n",
    "\n",
    "(d) The inverse of $A$, if it exists.\n",
    "\n",
    "(e) The determinant of $B$."
   ]
  },
  {
   "cell_type": "code",
   "execution_count": 21,
   "id": "ad225e5c",
   "metadata": {},
   "outputs": [
    {
     "data": {
      "text/latex": [
       "$\\displaystyle \\left[\\begin{matrix}2 & 4\\\\-2 & 0\\end{matrix}\\right]$"
      ],
      "text/plain": [
       "Matrix([\n",
       "[ 2, 4],\n",
       "[-2, 0]])"
      ]
     },
     "execution_count": 21,
     "metadata": {},
     "output_type": "execute_result"
    }
   ],
   "source": [
    "# 4. (a) Define two 2x2 matrices.\n",
    "A , B = Matrix([[1 , 2] , [-1 , 0]]) , Matrix([[1 , -3] , [4 , 7]])\n",
    "2 * A"
   ]
  },
  {
   "cell_type": "code",
   "execution_count": 22,
   "id": "ac55fee7",
   "metadata": {},
   "outputs": [
    {
     "data": {
      "text/latex": [
       "$\\displaystyle \\left[\\begin{matrix}7 & -6\\\\13 & 28\\end{matrix}\\right]$"
      ],
      "text/plain": [
       "Matrix([\n",
       "[ 7, -6],\n",
       "[13, 28]])"
      ]
     },
     "execution_count": 22,
     "metadata": {},
     "output_type": "execute_result"
    }
   ],
   "source": [
    "# 4 (b). Matrix algebra.\n",
    "3 * A + 4 * B"
   ]
  },
  {
   "cell_type": "code",
   "execution_count": 23,
   "id": "f8889906",
   "metadata": {},
   "outputs": [
    {
     "data": {
      "text/latex": [
       "$\\displaystyle \\left[\\begin{matrix}9 & 11\\\\-1 & 3\\end{matrix}\\right]$"
      ],
      "text/plain": [
       "Matrix([\n",
       "[ 9, 11],\n",
       "[-1,  3]])"
      ]
     },
     "execution_count": 23,
     "metadata": {},
     "output_type": "execute_result"
    }
   ],
   "source": [
    "# 4 (c). Multiplying matrices.\n",
    "A * B"
   ]
  },
  {
   "cell_type": "code",
   "execution_count": 24,
   "id": "d47a05b6",
   "metadata": {},
   "outputs": [
    {
     "data": {
      "text/latex": [
       "$\\displaystyle \\left[\\begin{matrix}0 & -1\\\\\\frac{1}{2} & \\frac{1}{2}\\end{matrix}\\right]$"
      ],
      "text/plain": [
       "Matrix([\n",
       "[  0,  -1],\n",
       "[1/2, 1/2]])"
      ]
     },
     "execution_count": 24,
     "metadata": {},
     "output_type": "execute_result"
    }
   ],
   "source": [
    "# 4 (d). Matrix inverse.\n",
    "A.inv()"
   ]
  },
  {
   "cell_type": "code",
   "execution_count": 25,
   "id": "9f359226",
   "metadata": {},
   "outputs": [
    {
     "data": {
      "text/latex": [
       "$\\displaystyle 19$"
      ],
      "text/plain": [
       "19"
      ]
     },
     "execution_count": 25,
     "metadata": {},
     "output_type": "execute_result"
    }
   ],
   "source": [
    "# 4 (e). The determinant.\n",
    "B.det()"
   ]
  },
  {
   "cell_type": "markdown",
   "id": "45308ace",
   "metadata": {},
   "source": [
    "${\\bf 5.}$ Sign up to GitHub and upload your notebooks to your repository."
   ]
  },
  {
   "cell_type": "markdown",
   "id": "0f361434",
   "metadata": {},
   "source": [
    "## GITHUB\n",
    "\n",
    "GitHub is a website and cloud-based service that helps developers store and manage their code, as well as track and control changes to their code.\n",
    "\n",
    "To sign up to GitHub, where the world builds software, click here:\n",
    "\n",
    "https://github.com.\n",
    "\n",
    "Upload this Google Colab notebook to GitHub.\n",
    "\n",
    "DID YOU KNOW? You can use GitHub to host your own web pages.\n",
    "\n",
    "# End Solutions for Chapter 5\n",
    "<span>&copy; Stephen Lynch 2023-present.</span>"
   ]
  }
 ],
 "metadata": {
  "kernelspec": {
   "display_name": "Python 3 (ipykernel)",
   "language": "python",
   "name": "python3"
  },
  "language_info": {
   "codemirror_mode": {
    "name": "ipython",
    "version": 3
   },
   "file_extension": ".py",
   "mimetype": "text/x-python",
   "name": "python",
   "nbconvert_exporter": "python",
   "pygments_lexer": "ipython3",
   "version": "3.9.13"
  }
 },
 "nbformat": 4,
 "nbformat_minor": 5
}

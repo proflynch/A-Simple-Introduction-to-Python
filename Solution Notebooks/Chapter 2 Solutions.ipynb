{
 "cells": [
  {
   "cell_type": "markdown",
   "id": "27b6f53f",
   "metadata": {},
   "source": [
    "# CHAPTER 2: Simple Programming with Python "
   ]
  },
  {
   "cell_type": "markdown",
   "id": "a625dfd6",
   "metadata": {},
   "source": [
    "(Use IDLE, Spyder or a Jupyter notebook)"
   ]
  },
  {
   "cell_type": "markdown",
   "id": "f21c29ef",
   "metadata": {},
   "source": [
    "## Solutions to Exercises\n",
    "\n",
    "$\\bf{1.}$ (a) Given the list, $A=[[1,2,3,4],[5,6,7,8],[9,10,11,12],[13,14,15,16]]$, how would you access the third element in the second list?\n",
    "\n",
    "(b) Slice $A$ to remove row 3 and columns 1 and 2.\n",
    "\n",
    "(c) Construct a list of the form: $[-9,-5,-1,\\ldots,195,199]$.\n",
    "\n",
    "(d) Create a dictionary data type for a car with key:value pairs, brand:BMW, year:2018, color:red, mileage:30000, and fuel:petrol."
   ]
  },
  {
   "cell_type": "code",
   "execution_count": 1,
   "id": "036e2c90",
   "metadata": {},
   "outputs": [
    {
     "data": {
      "text/plain": [
       "7"
      ]
     },
     "execution_count": 1,
     "metadata": {},
     "output_type": "execute_result"
    }
   ],
   "source": [
    "# 1. (a)\n",
    "A = [[1,2,3,4] , [5,6,7,8] , [9,10,11,12] , [13,14,15,16]]\n",
    "A[1][2]"
   ]
  },
  {
   "cell_type": "code",
   "execution_count": 5,
   "id": "e883e480",
   "metadata": {},
   "outputs": [
    {
     "data": {
      "text/plain": [
       "[[3, 4], [7, 8], [15, 16]]"
      ]
     },
     "execution_count": 5,
     "metadata": {},
     "output_type": "execute_result"
    }
   ],
   "source": [
    "# 1. (b)\n",
    "[A[0][2:] , A[1][2:] , A[3][2:]]"
   ]
  },
  {
   "cell_type": "code",
   "execution_count": 6,
   "id": "84ded584",
   "metadata": {},
   "outputs": [
    {
     "name": "stdout",
     "output_type": "stream",
     "text": [
      "[-9, -5, -1, 3, 7, 11, 15, 19, 23, 27, 31, 35, 39, 43, 47, 51, 55, 59, 63, 67, 71, 75, 79, 83, 87, 91, 95, 99, 103, 107, 111, 115, 119, 123, 127, 131, 135, 139, 143, 147, 151, 155, 159, 163, 167, 171, 175, 179, 183, 187, 191, 195, 199]\n"
     ]
    }
   ],
   "source": [
    "# 1. (c)\n",
    "print(list(range(-9 , 200 , 4)))"
   ]
  },
  {
   "cell_type": "code",
   "execution_count": 7,
   "id": "8f13062a",
   "metadata": {},
   "outputs": [],
   "source": [
    "# 1. (d) \n",
    "car = {\"brand\" : \"BMW\" , \"year\" : \"2018\" , \"color\" : \"red\" , \"mileage\" : \"30000\" , \"fuel\" : \"petrol\"}"
   ]
  },
  {
   "cell_type": "markdown",
   "id": "655dbfb1",
   "metadata": {},
   "source": [
    "$\\bf{2.}$  Write a function for converting degrees Fahrenheit to degrees Centigrade. "
   ]
  },
  {
   "cell_type": "code",
   "execution_count": 9,
   "id": "3d2c3dd3",
   "metadata": {},
   "outputs": [
    {
     "name": "stdout",
     "output_type": "stream",
     "text": [
      "Enter temperature in degrees Fahrenheit: 212\n",
      "Temperature in Centigrade is 100.0000 degrees C\n"
     ]
    }
   ],
   "source": [
    "# 2. Fahrenheit to Centigrade.\n",
    "def F2C():\n",
    "    F = int(input('Enter temperature in degrees Fahrenheit: '))\n",
    "    C = (F - 32) * 5 / 9\n",
    "    # Format the output to eight digits with 4 decimal places.\n",
    "    print('Temperature in Centigrade is {:08.4f} degrees C'.format(C))\n",
    "F2C()"
   ]
  },
  {
   "cell_type": "markdown",
   "id": "7c65ae46",
   "metadata": {},
   "source": [
    "$\\bf{3.}$  (a) Define a function called sigmoid whose formula is given by:\n",
    "\n",
    "$$\n",
    "\\sigma(x)=\\frac{1}{1+e^{-x}},\n",
    "$$\n",
    "\n",
    "where $x$ is a real number. Determine $\\sigma(0.5)$. This is an activation function used in AI.\n",
    "\n",
    "(b) The function hsgn(x) is defined as:\n",
    "    \n",
    "$$\n",
    "\\mathrm{hsgn}(x)= \\left \\{\n",
    "    \\begin{array} \\\\\n",
    "        1 & \\mathrm{if} & x > 0 \\\\\n",
    "        0 & \\mathrm{if} & x = 0 \\\\\n",
    "        -1 & \\mathrm{if} & x < 0 \\\\\n",
    "    \\end{array}\n",
    "\\right . \n",
    ".$$\n",
    "\n",
    "Write a Python program that defines this function and determine $\\mathrm{hsgn}(-6)$. "
   ]
  },
  {
   "cell_type": "code",
   "execution_count": 10,
   "id": "5a24db41",
   "metadata": {},
   "outputs": [
    {
     "data": {
      "text/plain": [
       "0.6224593312018546"
      ]
     },
     "execution_count": 10,
     "metadata": {},
     "output_type": "execute_result"
    }
   ],
   "source": [
    "# 3. (a) Sigmoid function.\n",
    "import numpy as np\n",
    "def sigmoid(x):\n",
    "    return 1 / (1 + np.exp(-x))\n",
    "sigmoid(0.5)"
   ]
  },
  {
   "cell_type": "code",
   "execution_count": 11,
   "id": "0aff1bc4",
   "metadata": {},
   "outputs": [
    {
     "data": {
      "text/plain": [
       "-1"
      ]
     },
     "execution_count": 11,
     "metadata": {},
     "output_type": "execute_result"
    }
   ],
   "source": [
    "# 3. (b) hsgn function.\n",
    "def hsgn(x):\n",
    "    if x > 0:\n",
    "        return 1\n",
    "    elif x==0:\n",
    "        return 0\n",
    "    else:\n",
    "        return -1\n",
    "hsgn(-6)"
   ]
  },
  {
   "cell_type": "markdown",
   "id": "810ebb30",
   "metadata": {},
   "source": [
    "$\\bf{4.}$  (a) Write an interactive Python program to play a “guess the number” game. The computer should think of a random integer between 1 and 20, and the user (player) has to try to guess the number within six attempts. The program should let the player know if the guess is too high or too low. Readers will need the randint function from the random module, examples and syntax can be found on the internet.\n",
    "\n",
    "(b) Consider Pythagorean triples, positive integers $a,b,c$, such that $a^2 +b^2 = c^2$. Suppose that $c$ is defined by $c = b + n$, where $n$ is also an integer. Write a Python program that will find all such triples for a given value of $n$, where both $a$ and $b$ are less than or equal to a maximum value, $m$, say. For the case $n = 1$, find all triples with $1 \\leq a \\leq 100$ and $1 \\leq b \\leq 100$. For the case $n = 3$, find all triples with $1 \\leq a \\leq 200$ and $1 \\leq b \\leq 200$."
   ]
  },
  {
   "cell_type": "code",
   "execution_count": 12,
   "id": "d9e3a7ce",
   "metadata": {},
   "outputs": [
    {
     "name": "stdout",
     "output_type": "stream",
     "text": [
      "Hi! What is your name? Seb\n",
      "Welcome, Seb! I am thinking of an integer between 1 and 20.\n",
      "Take a guess and type the integer? 10\n",
      "Your guess is too high.\n",
      "Take a guess and type the integer? 5\n",
      "Your guess is too low.\n",
      "Take a guess and type the integer? 7\n",
      "Your guess is too low.\n",
      "Take a guess and type the integer? 8\n",
      "Your guess is too low.\n",
      "Take a guess and type the integer? 9\n",
      "Well done Seb! You guessed my number in 5 guesses!\n"
     ]
    }
   ],
   "source": [
    "# 4. (a) Guess the number.\n",
    "import random # Import the random module.\n",
    "num_guesses = 0\n",
    "name = input('Hi! What is your name? ')\n",
    "number = random.randint(1, 20) # A random integer between 1 and 20.\n",
    "print('Welcome, {}! I am thinking of an integer between 1 and 20.'.format(name))\n",
    "while num_guesses < 6:\n",
    "    guess = int(input('Take a guess and type the integer? '))\n",
    "    num_guesses += 1\n",
    "    if guess < number:\n",
    "        print('Your guess is too low.')\n",
    "    if guess > number:\n",
    "        print('Your guess is too high.')\n",
    "    if guess == number:\n",
    "        break\n",
    "if guess == number:\n",
    "    print('Well done {}! You guessed my number in {} guesses!'.format(name, num_guesses))\n",
    "else:\n",
    "    print('Sorry, you lose! The number I was thinking of was {}'.format(number))"
   ]
  },
  {
   "cell_type": "code",
   "execution_count": 13,
   "id": "b7a7e2f3",
   "metadata": {},
   "outputs": [
    {
     "name": "stdout",
     "output_type": "stream",
     "text": [
      "3 4 5\n",
      "5 12 13\n",
      "7 24 25\n",
      "9 40 41\n",
      "11 60 61\n",
      "13 84 85\n",
      "9 12 15\n",
      "15 36 39\n",
      "21 72 75\n",
      "27 120 123\n",
      "33 180 183\n"
     ]
    }
   ],
   "source": [
    "# 4. (b) Pythagorean triples.\n",
    "import math\n",
    "def pythagorean_triples(i):\n",
    "    for b in range(i):\n",
    "        for a in range(1, b):\n",
    "            c = math.sqrt( a * a + b * b)\n",
    "            n = 1\n",
    "            if c - b == n:\n",
    "                print(a, b, int(c))           \n",
    "pythagorean_triples(101)\n",
    "import math\n",
    "def pythagorean_triples(i):\n",
    "    for b in range(i):\n",
    "        for a in range(1, b):\n",
    "            c = math.sqrt( a * a + b * b)\n",
    "            n = 3\n",
    "            if c - b == n:\n",
    "                print(a, b, int(c))            \n",
    "pythagorean_triples(201)"
   ]
  },
  {
   "cell_type": "markdown",
   "id": "6a6c86cd",
   "metadata": {},
   "source": [
    "## End Solutions for Chapter 2\n",
    "<span>&copy; Stephen Lynch 2023-present.</span>"
   ]
  }
 ],
 "metadata": {
  "kernelspec": {
   "display_name": "Python 3 (ipykernel)",
   "language": "python",
   "name": "python3"
  },
  "language_info": {
   "codemirror_mode": {
    "name": "ipython",
    "version": 3
   },
   "file_extension": ".py",
   "mimetype": "text/x-python",
   "name": "python",
   "nbconvert_exporter": "python",
   "pygments_lexer": "ipython3",
   "version": "3.9.13"
  }
 },
 "nbformat": 4,
 "nbformat_minor": 5
}
